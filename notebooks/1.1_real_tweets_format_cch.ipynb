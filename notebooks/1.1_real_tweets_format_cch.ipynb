{
 "cells": [
  {
   "cell_type": "markdown",
   "metadata": {},
   "source": [
    "<img src=\"http://imgur.com/1ZcRyrc.png\" style=\"float: left; margin: 15px; height: 80px\">\n",
    "\n",
    "# TROLL HUNTING: DETECTING STATE-BACKED DISINFORMATION CAMPAIGNS ON TWITTER"
   ]
  },
  {
   "cell_type": "markdown",
   "metadata": {},
   "source": [
    "# NOTEOOK 1.1: \n",
    "This is where I'll format the real tweets scrapped from notebook 1.0. The scrapped tweets are not ready to be used out of the box, hence these extra steps to get them ready for pre-processing and feature engineering."
   ]
  },
  {
   "cell_type": "code",
   "execution_count": 1,
   "metadata": {},
   "outputs": [],
   "source": [
    "import pandas as pd"
   ]
  },
  {
   "cell_type": "code",
   "execution_count": 2,
   "metadata": {},
   "outputs": [],
   "source": [
    "real_tweets = pd.read_csv('../data/real_tweets.csv', names = [\"tweetid\",\n",
    "        \"user_screen_name\",\n",
    "        \"tweet_time\",\n",
    "        \"tweet_language\",\n",
    "        \"source\",\n",
    "        \"retweet_count\",\n",
    "        \"favorited\",\n",
    "        \"rewteeted\",                                                        \n",
    "        \"tweet_text\"])"
   ]
  },
  {
   "cell_type": "code",
   "execution_count": 3,
   "metadata": {},
   "outputs": [],
   "source": [
    "# I'm dropping these columns after considering what I would need for the project.\n",
    "# The remaining columns would allow me to feature engineer up to a dozen extra features in any case\n",
    "real_tweets = real_tweets.drop(\n",
    "    columns=[\"favorited\", \"rewteeted\", \"source\", \"tweet_language\", \"retweet_count\"]\n",
    ")"
   ]
  },
  {
   "cell_type": "code",
   "execution_count": 4,
   "metadata": {},
   "outputs": [],
   "source": [
    "# removing re-tweets, as they don't reflect actual writing by the users \n",
    "real_tweets = real_tweets[~real_tweets['tweet_text'].str.startswith(\"RT @\")].copy()"
   ]
  },
  {
   "cell_type": "code",
   "execution_count": 5,
   "metadata": {},
   "outputs": [],
   "source": [
    "# adding the following columns, which I'll need for the modelling/analysis.\n",
    "# I'm using NYT's info initially, and will update with the right users' info below  \n",
    "real_tweets['user_reported_location'] = 'New York City'\n",
    "real_tweets['user_profile_description'] = 'Where the conversation begins.'\n",
    "real_tweets['follower_count'] = 43173753\n",
    "real_tweets['following_count'] = 887\n",
    "real_tweets['account_creation_date'] = 'Fri Mar 02 20:41:42 +0000 2007'"
   ]
  },
  {
   "cell_type": "code",
   "execution_count": 6,
   "metadata": {},
   "outputs": [],
   "source": [
    "real_tweets = real_tweets[\n",
    "    [\n",
    "        \"tweetid\",\n",
    "        \"user_screen_name\",\n",
    "        \"user_reported_location\",\n",
    "        \"user_profile_description\",\n",
    "        \"follower_count\",\n",
    "        \"following_count\",\n",
    "        \"account_creation_date\",\n",
    "        \"tweet_time\",\n",
    "        \"tweet_text\",\n",
    "    ]\n",
    "]"
   ]
  },
  {
   "cell_type": "code",
   "execution_count": 7,
   "metadata": {},
   "outputs": [
    {
     "data": {
      "text/plain": [
       "(81512, 9)"
      ]
     },
     "execution_count": 7,
     "metadata": {},
     "output_type": "execute_result"
    }
   ],
   "source": [
    "real_tweets.shape"
   ]
  },
  {
   "cell_type": "code",
   "execution_count": 8,
   "metadata": {},
   "outputs": [
    {
     "data": {
      "text/plain": [
       "array(['nytimes', 'washingtonpost', 'Reuters', 'ChannelNewsAsia', 'STcom',\n",
       "       'FoxFriendsFirst', 'TheEconomist', 'politico', 'CNN', 'WSJ',\n",
       "       'realDonaldTrump', 'AOC', 'MichelleObama', 'BarackObama',\n",
       "       'HillaryClinton', 'SpeakerPelosi', 'RudyGiuliani', 'SarahPalinUSA',\n",
       "       'marcorubio', 'tedcruz', 'maggieNYT', 'ariannahuff', 'markknoller',\n",
       "       'jaketapper', 'ezraklein', 'BillKristol', 'glennbeck', 'KarlRove',\n",
       "       'BillOReilly', 'LouDobbs', 'BonnieGlaser', 'dandrezner',\n",
       "       'prchovanec', 'karaswisher', 'gtconway3d'], dtype=object)"
      ]
     },
     "execution_count": 8,
     "metadata": {},
     "output_type": "execute_result"
    }
   ],
   "source": [
    "real_tweets['user_screen_name'].unique()"
   ]
  },
  {
   "cell_type": "code",
   "execution_count": 9,
   "metadata": {},
   "outputs": [],
   "source": [
    "real_tweets.loc[\n",
    "    real_tweets['user_screen_name'] == 'washingtonpost', \n",
    "    [\n",
    "        \"user_reported_location\",\n",
    "        \"user_profile_description\",\n",
    "        \"follower_count\",\n",
    "        \"following_count\",\n",
    "        \"account_creation_date\",\n",
    "    ]\n",
    "] = [\n",
    "    \"Washington DC\",\n",
    "    \"Breaking news, analysis, and opinion. Founded in 1877\",\n",
    "    13546228,\n",
    "    1517,\n",
    "    \"Tue Mar 27 11:19:39 +0000 2007\",\n",
    "]"
   ]
  },
  {
   "cell_type": "code",
   "execution_count": 10,
   "metadata": {},
   "outputs": [],
   "source": [
    "real_tweets.loc[\n",
    "    real_tweets['user_screen_name'] == 'Reuters', \n",
    "    [\n",
    "        \"user_reported_location\",\n",
    "        \"user_profile_description\",\n",
    "        \"follower_count\",\n",
    "        \"following_count\",\n",
    "        \"account_creation_date\",\n",
    "    ]\n",
    "] = [\n",
    "    \"Around the world\",\n",
    "    \"Top and breaking news, pictures, and videos from Reuters\",\n",
    "    20346016,\n",
    "    1083,\n",
    "    \"Tue Mar 20 17:46:05 +0000 2007\",\n",
    "]"
   ]
  },
  {
   "cell_type": "code",
   "execution_count": 11,
   "metadata": {},
   "outputs": [],
   "source": [
    "real_tweets.loc[\n",
    "    real_tweets['user_screen_name'] == 'ChannelNewsAsia', \n",
    "    [\n",
    "        \"user_reported_location\",\n",
    "        \"user_profile_description\",\n",
    "        \"follower_count\",\n",
    "        \"following_count\",\n",
    "        \"account_creation_date\",\n",
    "    ]\n",
    "] = [\n",
    "    \"Singapore\",\n",
    "    \"The official space of CNA - the source of breaking news from Asia and the world\",\n",
    "    910420,\n",
    "    208,\n",
    "    \"Thu May 07 09:14:43 +0000 2009\",\n",
    "]"
   ]
  },
  {
   "cell_type": "code",
   "execution_count": 12,
   "metadata": {},
   "outputs": [],
   "source": [
    "real_tweets.loc[\n",
    "    real_tweets['user_screen_name'] == 'STcom', \n",
    "    [\n",
    "        \"user_reported_location\",\n",
    "        \"user_profile_description\",\n",
    "        \"follower_count\",\n",
    "        \"following_count\",\n",
    "        \"account_creation_date\",\n",
    "    ]\n",
    "] = [\n",
    "    \"Singapore\",\n",
    "    \"Breaking news from the online site of Singapore's most widely read newspaper\",\n",
    "    1006517,\n",
    "    135,\n",
    "    \"Tue May 05 06:48:23 +0000 2009\",\n",
    "]"
   ]
  },
  {
   "cell_type": "code",
   "execution_count": 13,
   "metadata": {},
   "outputs": [],
   "source": [
    "real_tweets.loc[\n",
    "    real_tweets['user_screen_name'] == 'FoxFriendsFirst', \n",
    "    [\n",
    "        \"user_reported_location\",\n",
    "        \"user_profile_description\",\n",
    "        \"follower_count\",\n",
    "        \"following_count\",\n",
    "        \"account_creation_date\",\n",
    "    ]\n",
    "] = [\n",
    "    \"New York City\",\n",
    "    \"Airs weekdays from 4-6am ET on the Fox News Channel\",\n",
    "    129230,\n",
    "    713,\n",
    "    \"Fri Feb 10 18:30:31 +0000 2012\",\n",
    "]"
   ]
  },
  {
   "cell_type": "code",
   "execution_count": 14,
   "metadata": {},
   "outputs": [],
   "source": [
    "real_tweets.loc[\n",
    "    real_tweets['user_screen_name'] == 'TheEconomist', \n",
    "    [\n",
    "        \"user_reported_location\",\n",
    "        \"user_profile_description\",\n",
    "        \"follower_count\",\n",
    "        \"following_count\",\n",
    "        \"account_creation_date\",\n",
    "    ]\n",
    "] = [\n",
    "    \"London\",\n",
    "    \"News and analysis with a global perspective\",\n",
    "    23647780,\n",
    "    1,\n",
    "    \"Sat May 12 13:04:50 +0000 2007\",\n",
    "]"
   ]
  },
  {
   "cell_type": "code",
   "execution_count": 15,
   "metadata": {},
   "outputs": [],
   "source": [
    "real_tweets.loc[\n",
    "    real_tweets['user_screen_name'] == 'politico', \n",
    "    [\n",
    "        \"user_reported_location\",\n",
    "        \"user_profile_description\",\n",
    "        \"follower_count\",\n",
    "        \"following_count\",\n",
    "        \"account_creation_date\",\n",
    "    ]\n",
    "] = [\n",
    "    \"Washington DC\",\n",
    "    \"Nobody knows politics like POLITICO\",\n",
    "    3789860,\n",
    "    1399,\n",
    "    \"Mon Oct 08 00:29:38 +0000 2007\",\n",
    "]"
   ]
  },
  {
   "cell_type": "code",
   "execution_count": 16,
   "metadata": {},
   "outputs": [],
   "source": [
    "real_tweets.loc[\n",
    "    real_tweets['user_screen_name'] == 'CNN', \n",
    "    [\n",
    "        \"user_reported_location\",\n",
    "        \"user_profile_description\",\n",
    "        \"follower_count\",\n",
    "        \"following_count\",\n",
    "        \"account_creation_date\",\n",
    "    ]\n",
    "] = [\n",
    "    \"Global\",\n",
    "    \"It’s our job to go there & tell the most difficult stories\",\n",
    "    41665561,\n",
    "    1109,\n",
    "    \"Fri Feb 09 00:35:02 +0000 2007\",\n",
    "]"
   ]
  },
  {
   "cell_type": "code",
   "execution_count": 17,
   "metadata": {},
   "outputs": [],
   "source": [
    "real_tweets.loc[\n",
    "    real_tweets['user_screen_name'] == 'WSJ', \n",
    "    [\n",
    "        \"user_reported_location\",\n",
    "        \"user_profile_description\",\n",
    "        \"follower_count\",\n",
    "        \"following_count\",\n",
    "        \"account_creation_date\",\n",
    "    ]\n",
    "] = [\n",
    "    \"New York City\",\n",
    "    \"Breaking news and features from the WSJ\",\n",
    "    16519657,\n",
    "    1126,\n",
    "    \"Sun Apr 01 06:22:13 +0000 2007\",\n",
    "]"
   ]
  },
  {
   "cell_type": "code",
   "execution_count": 18,
   "metadata": {},
   "outputs": [],
   "source": [
    "real_tweets.loc[\n",
    "    real_tweets['user_screen_name'] == 'realDonaldTrump', \n",
    "    [\n",
    "        \"user_reported_location\",\n",
    "        \"user_profile_description\",\n",
    "        \"follower_count\",\n",
    "        \"following_count\",\n",
    "        \"account_creation_date\",\n",
    "    ]\n",
    "] = [\n",
    "    \"Washington DC\",\n",
    "    \"45th President of the United States of America\",\n",
    "    59545891,\n",
    "    45,\n",
    "    \"Wed Mar 18 13:46:38 +0000 2009\",\n",
    "]"
   ]
  },
  {
   "cell_type": "code",
   "execution_count": 19,
   "metadata": {},
   "outputs": [],
   "source": [
    "real_tweets.loc[\n",
    "    real_tweets['user_screen_name'] == 'AOC', \n",
    "    [\n",
    "        \"user_reported_location\",\n",
    "        \"user_profile_description\",\n",
    "        \"follower_count\",\n",
    "        \"following_count\",\n",
    "        \"account_creation_date\",\n",
    "    ]\n",
    "] = [\n",
    "    \"Bronx and Queens, NYC\",\n",
    "    \"Congresswoman for NY-14 (Bronx and Queens)\",\n",
    "    3846203,\n",
    "    1457,\n",
    "    \"Wed Apr 28 22:38:40 +0000 2010\",\n",
    "]"
   ]
  },
  {
   "cell_type": "code",
   "execution_count": 20,
   "metadata": {},
   "outputs": [],
   "source": [
    "real_tweets.loc[\n",
    "    real_tweets['user_screen_name'] == 'MichelleObama', \n",
    "    [\n",
    "        \"user_reported_location\",\n",
    "        \"user_profile_description\",\n",
    "        \"follower_count\",\n",
    "        \"following_count\",\n",
    "        \"account_creation_date\",\n",
    "    ]\n",
    "] = [\n",
    "    \"Washington DC\",\n",
    "    \"Girl from the South Side and former First Lady\",\n",
    "    12357574,\n",
    "    18,\n",
    "    \"Thu Nov 10 20:13:01 +0000 2011\",\n",
    "]"
   ]
  },
  {
   "cell_type": "code",
   "execution_count": 21,
   "metadata": {},
   "outputs": [],
   "source": [
    "real_tweets.loc[\n",
    "    real_tweets['user_screen_name'] == 'BarackObama', \n",
    "    [\n",
    "        \"user_reported_location\",\n",
    "        \"user_profile_description\",\n",
    "        \"follower_count\",\n",
    "        \"following_count\",\n",
    "        \"account_creation_date\",\n",
    "    ]\n",
    "] = [\n",
    "    \"Washington DC\",\n",
    "    \"Dad, husband, President, citizen\",\n",
    "    105520767,\n",
    "    614870,\n",
    "    \"Mon Mar 05 22:08:25 +0000 2007\",\n",
    "]"
   ]
  },
  {
   "cell_type": "code",
   "execution_count": 22,
   "metadata": {},
   "outputs": [],
   "source": [
    "real_tweets.loc[\n",
    "    real_tweets['user_screen_name'] == 'HillaryClinton', \n",
    "    [\n",
    "        \"user_reported_location\",\n",
    "        \"user_profile_description\",\n",
    "        \"follower_count\",\n",
    "        \"following_count\",\n",
    "        \"account_creation_date\",\n",
    "    ]\n",
    "] = [\n",
    "    \"New York City\",\n",
    "    \"2016 Democratic Nominee, SecState, Senator, hair icon\",\n",
    "    24344679,\n",
    "    789,\n",
    "    \"Tue Apr 09 18:04:35 +0000 2013\",\n",
    "]"
   ]
  },
  {
   "cell_type": "code",
   "execution_count": 23,
   "metadata": {},
   "outputs": [],
   "source": [
    "real_tweets.loc[\n",
    "    real_tweets['user_screen_name'] == 'SpeakerPelosi', \n",
    "    [\n",
    "        \"user_reported_location\",\n",
    "        \"user_profile_description\",\n",
    "        \"follower_count\",\n",
    "        \"following_count\",\n",
    "        \"account_creation_date\",\n",
    "    ]\n",
    "] = [\n",
    "    \"Washington DC\",\n",
    "    \"Speaker of the House, focused on strengthening America's middle class and creating jobs\",\n",
    "    2415539,\n",
    "    362,\n",
    "    \"Thu Aug 07 15:35:02 +0000 2008\",\n",
    "]"
   ]
  },
  {
   "cell_type": "code",
   "execution_count": 24,
   "metadata": {},
   "outputs": [],
   "source": [
    "real_tweets.loc[\n",
    "    real_tweets['user_screen_name'] == 'RudyGiuliani', \n",
    "    [\n",
    "        \"user_reported_location\",\n",
    "        \"user_profile_description\",\n",
    "        \"follower_count\",\n",
    "        \"following_count\",\n",
    "        \"account_creation_date\",\n",
    "    ]\n",
    "] = [\n",
    "    \"New York City\",\n",
    "    \"Former mayor of New York\",\n",
    "    277613,\n",
    "    113,\n",
    "    \"Wed Aug 31 00:35:10 +0000 2016\",\n",
    "]"
   ]
  },
  {
   "cell_type": "code",
   "execution_count": 25,
   "metadata": {},
   "outputs": [],
   "source": [
    "real_tweets.loc[\n",
    "    real_tweets['user_screen_name'] == 'SarahPalinUSA', \n",
    "    [\n",
    "        \"user_reported_location\",\n",
    "        \"user_profile_description\",\n",
    "        \"follower_count\",\n",
    "        \"following_count\",\n",
    "        \"account_creation_date\",\n",
    "    ]\n",
    "] = [\n",
    "    \"Alaska\",\n",
    "    \"Former Governor of Alaska and GOP Vice Presidential Nominee\",\n",
    "    1514079,\n",
    "    139,\n",
    "    \"Thu Aug 13 22:56:16 +0000 2009\",\n",
    "]"
   ]
  },
  {
   "cell_type": "code",
   "execution_count": 26,
   "metadata": {},
   "outputs": [],
   "source": [
    "real_tweets.loc[\n",
    "    real_tweets['user_screen_name'] == 'marcorubio', \n",
    "    [\n",
    "        \"user_reported_location\",\n",
    "        \"user_profile_description\",\n",
    "        \"follower_count\",\n",
    "        \"following_count\",\n",
    "        \"account_creation_date\",\n",
    "    ]\n",
    "] = [\n",
    "    \"USA\",\n",
    "    \"Follower of Christ, Husband, Father, US Senator for Florida\",\n",
    "    3855142,\n",
    "    2406,\n",
    "    \"Wed Aug 06 03:07:06 +0000 2008\",\n",
    "]"
   ]
  },
  {
   "cell_type": "code",
   "execution_count": 27,
   "metadata": {},
   "outputs": [],
   "source": [
    "real_tweets.loc[\n",
    "    real_tweets['user_screen_name'] == 'tedcruz', \n",
    "    [\n",
    "        \"user_reported_location\",\n",
    "        \"user_profile_description\",\n",
    "        \"follower_count\",\n",
    "        \"following_count\",\n",
    "        \"account_creation_date\",\n",
    "    ]\n",
    "] = [\n",
    "    \"Houston, Texas\",\n",
    "    \"Representing the great state of Texas in the US Senate\",\n",
    "    3312253,\n",
    "    6473,\n",
    "    \"Fri Mar 06 03:20:20 +0000 2009\",\n",
    "]"
   ]
  },
  {
   "cell_type": "code",
   "execution_count": 28,
   "metadata": {},
   "outputs": [],
   "source": [
    "real_tweets.loc[\n",
    "    real_tweets['user_screen_name'] == 'maggieNYT', \n",
    "    [\n",
    "        \"user_reported_location\",\n",
    "        \"user_profile_description\",\n",
    "        \"follower_count\",\n",
    "        \"following_count\",\n",
    "        \"account_creation_date\",\n",
    "    ]\n",
    "] = [\n",
    "    \"Washington DC\",\n",
    "    \"White House correspondent for NYTimes, analyst for CNN\",\n",
    "    1072857,\n",
    "    3862,\n",
    "    \"Fri Nov 27 23:14:06 +0000 2009\",\n",
    "]"
   ]
  },
  {
   "cell_type": "code",
   "execution_count": 29,
   "metadata": {},
   "outputs": [],
   "source": [
    "real_tweets.loc[\n",
    "    real_tweets['user_screen_name'] == 'ariannahuff', \n",
    "    [\n",
    "        \"user_reported_location\",\n",
    "        \"user_profile_description\",\n",
    "        \"follower_count\",\n",
    "        \"following_count\",\n",
    "        \"account_creation_date\",\n",
    "    ]\n",
    "] = [\n",
    "    \"New York City\",\n",
    "    \"Mother. Sister. HuffPost Founder\",\n",
    "    2967111,\n",
    "    2718,\n",
    "    \"Thu Feb 26 06:25:41 +0000 2009\",\n",
    "]"
   ]
  },
  {
   "cell_type": "code",
   "execution_count": 30,
   "metadata": {},
   "outputs": [],
   "source": [
    "real_tweets.loc[\n",
    "    real_tweets['user_screen_name'] == 'markknoller', \n",
    "    [\n",
    "        \"user_reported_location\",\n",
    "        \"user_profile_description\",\n",
    "        \"follower_count\",\n",
    "        \"following_count\",\n",
    "        \"account_creation_date\",\n",
    "    ]\n",
    "] = [\n",
    "    \"Washington DC\",\n",
    "    \"CBS News White House Correspondent\",\n",
    "    322456,\n",
    "    2168,\n",
    "    \"Tue Apr 14 14:01:03 +0000 2009\",\n",
    "]"
   ]
  },
  {
   "cell_type": "code",
   "execution_count": 31,
   "metadata": {},
   "outputs": [],
   "source": [
    "real_tweets.loc[\n",
    "    real_tweets['user_screen_name'] == 'jaketapper', \n",
    "    [\n",
    "        \"user_reported_location\",\n",
    "        \"user_profile_description\",\n",
    "        \"follower_count\",\n",
    "        \"following_count\",\n",
    "        \"account_creation_date\",\n",
    "    ]\n",
    "] = [\n",
    "    \"Washington DC\",\n",
    "    \"CNN Anchor of TheLeadCNN and CNNSOTU and Chief Washington Correspondent\",\n",
    "    2024701,\n",
    "    7296,\n",
    "    \"Fri Apr 25 17:23:28 +0000 2008\",\n",
    "]"
   ]
  },
  {
   "cell_type": "code",
   "execution_count": 32,
   "metadata": {},
   "outputs": [],
   "source": [
    "real_tweets.loc[\n",
    "    real_tweets['user_screen_name'] == 'ezraklein', \n",
    "    [\n",
    "        \"user_reported_location\",\n",
    "        \"user_profile_description\",\n",
    "        \"follower_count\",\n",
    "        \"following_count\",\n",
    "        \"account_creation_date\",\n",
    "    ]\n",
    "] = [\n",
    "    \"Washington DC\",\n",
    "    \"Founder and editor-at-large of Vox\",\n",
    "    2515719,\n",
    "    1170,\n",
    "    \"Mon Jan 05 04:02:29 +0000 2009\",\n",
    "]"
   ]
  },
  {
   "cell_type": "code",
   "execution_count": 33,
   "metadata": {},
   "outputs": [],
   "source": [
    "real_tweets.loc[\n",
    "    real_tweets['user_screen_name'] == 'BillKristol', \n",
    "    [\n",
    "        \"user_reported_location\",\n",
    "        \"user_profile_description\",\n",
    "        \"follower_count\",\n",
    "        \"following_count\",\n",
    "        \"account_creation_date\",\n",
    "    ]\n",
    "] = [\n",
    "    \"Washington DC\",\n",
    "    \"Director, Host\",\n",
    "    460588,\n",
    "    3917,\n",
    "    \"Thu Oct 02 18:47:57 +0000 2014\",\n",
    "]"
   ]
  },
  {
   "cell_type": "code",
   "execution_count": 34,
   "metadata": {},
   "outputs": [],
   "source": [
    "real_tweets.loc[\n",
    "    real_tweets['user_screen_name'] == 'glennbeck', \n",
    "    [\n",
    "        \"user_reported_location\",\n",
    "        \"user_profile_description\",\n",
    "        \"follower_count\",\n",
    "        \"following_count\",\n",
    "        \"account_creation_date\",\n",
    "    ]\n",
    "] = [\n",
    "    \"Dallas, Rockies, NYC\",\n",
    "    \"question with boldness - to find the truth - not to prove your point\",\n",
    "    1211732,\n",
    "    362,\n",
    "    \"Tue Nov 18 00:43:47 +0000 2008\",\n",
    "]"
   ]
  },
  {
   "cell_type": "code",
   "execution_count": 35,
   "metadata": {},
   "outputs": [],
   "source": [
    "real_tweets.loc[\n",
    "    real_tweets['user_screen_name'] == 'KarlRove', \n",
    "    [\n",
    "        \"user_reported_location\",\n",
    "        \"user_profile_description\",\n",
    "        \"follower_count\",\n",
    "        \"following_count\",\n",
    "        \"account_creation_date\",\n",
    "    ]\n",
    "] = [\n",
    "    \"Washington DC\",\n",
    "    \"Former Deputy Chief of Staff to President George W Bush\",\n",
    "    668974,\n",
    "    138208,\n",
    "    \"Fri Jan 09 04:12:46 +0000 2009\",\n",
    "]"
   ]
  },
  {
   "cell_type": "code",
   "execution_count": 36,
   "metadata": {},
   "outputs": [],
   "source": [
    "real_tweets.loc[\n",
    "    real_tweets['user_screen_name'] == 'BillOReilly', \n",
    "    [\n",
    "        \"user_reported_location\",\n",
    "        \"user_profile_description\",\n",
    "        \"follower_count\",\n",
    "        \"following_count\",\n",
    "        \"account_creation_date\",\n",
    "    ]\n",
    "] = [\n",
    "    \"Washington DC\",\n",
    "    \"Former host on Fox News\",\n",
    "    3008678,\n",
    "    55,\n",
    "    \"Thu Mar 12 15:44:18 +0000 2009\",\n",
    "]"
   ]
  },
  {
   "cell_type": "code",
   "execution_count": 37,
   "metadata": {},
   "outputs": [],
   "source": [
    "real_tweets.loc[\n",
    "    real_tweets['user_screen_name'] == 'LouDobbs', \n",
    "    [\n",
    "        \"user_reported_location\",\n",
    "        \"user_profile_description\",\n",
    "        \"follower_count\",\n",
    "        \"following_count\",\n",
    "        \"account_creation_date\",\n",
    "    ]\n",
    "] = [\n",
    "    \"New York City\",\n",
    "    \"Lou Dobbs Tonight, Fox Business Network, 7 & 11 pm\",\n",
    "    1916957,\n",
    "    2097,\n",
    "    \"Wed Mar 25 12:39:59 +0000 2009\",\n",
    "]"
   ]
  },
  {
   "cell_type": "code",
   "execution_count": 38,
   "metadata": {},
   "outputs": [],
   "source": [
    "real_tweets.loc[\n",
    "    real_tweets['user_screen_name'] == 'BonnieGlaser', \n",
    "    [\n",
    "        \"user_reported_location\",\n",
    "        \"user_profile_description\",\n",
    "        \"follower_count\",\n",
    "        \"following_count\",\n",
    "        \"account_creation_date\",\n",
    "    ]\n",
    "] = [\n",
    "    \"Washington DC\",\n",
    "    \"Senior Adviser for Asia, Director, China Power Project, CSIS\",\n",
    "    28314,\n",
    "    587,\n",
    "    \"Tue Oct 07 19:55:59 +0000 2014\",\n",
    "]"
   ]
  },
  {
   "cell_type": "code",
   "execution_count": 39,
   "metadata": {},
   "outputs": [],
   "source": [
    "real_tweets.loc[\n",
    "    real_tweets['user_screen_name'] == 'dandrezner', \n",
    "    [\n",
    "        \"user_reported_location\",\n",
    "        \"user_profile_description\",\n",
    "        \"follower_count\",\n",
    "        \"following_count\",\n",
    "        \"account_creation_date\",\n",
    "    ]\n",
    "] = [\n",
    "    \"Washington DC\",\n",
    "    \"Professor at FletcherSchool\",\n",
    "    122596,\n",
    "    996,\n",
    "    \"Sun Sep 20 14:34:27 +0000 2009\",\n",
    "]"
   ]
  },
  {
   "cell_type": "code",
   "execution_count": 40,
   "metadata": {},
   "outputs": [],
   "source": [
    "real_tweets.loc[\n",
    "    real_tweets['user_screen_name'] == 'prchovanec', \n",
    "    [\n",
    "        \"user_reported_location\",\n",
    "        \"user_profile_description\",\n",
    "        \"follower_count\",\n",
    "        \"following_count\",\n",
    "        \"account_creation_date\",\n",
    "    ]\n",
    "] = [\n",
    "    \"New York City\",\n",
    "    \"Managing Director, Chief Strategist at Silvercrest Asset Management\",\n",
    "    44122,\n",
    "    1985,\n",
    "    \"Tue Aug 11 07:50:45 +0000 2009\",\n",
    "]"
   ]
  },
  {
   "cell_type": "code",
   "execution_count": 41,
   "metadata": {},
   "outputs": [],
   "source": [
    "real_tweets.loc[\n",
    "    real_tweets['user_screen_name'] == 'karaswisher', \n",
    "    [\n",
    "        \"user_reported_location\",\n",
    "        \"user_profile_description\",\n",
    "        \"follower_count\",\n",
    "        \"following_count\",\n",
    "        \"account_creation_date\",\n",
    "    ]\n",
    "] = [\n",
    "    \"San Francisco\",\n",
    "    \"Sparkly vampire\",\n",
    "    1294151,\n",
    "    1694,\n",
    "    \"Fri May 04 10:32:22 +0000 2007\",\n",
    "]"
   ]
  },
  {
   "cell_type": "code",
   "execution_count": 42,
   "metadata": {},
   "outputs": [],
   "source": [
    "real_tweets.loc[\n",
    "    real_tweets['user_screen_name'] == 'gtconway3d', \n",
    "    [\n",
    "        \"user_reported_location\",\n",
    "        \"user_profile_description\",\n",
    "        \"follower_count\",\n",
    "        \"following_count\",\n",
    "        \"account_creation_date\",\n",
    "    ]\n",
    "] = [\n",
    "    \"Washington DC\",\n",
    "    \"Lawyer\",\n",
    "    488412,\n",
    "    928,\n",
    "    \"Mon Jan 23 04:23:10 +0000 2012\",\n",
    "]"
   ]
  },
  {
   "cell_type": "code",
   "execution_count": 43,
   "metadata": {},
   "outputs": [
    {
     "name": "stdout",
     "output_type": "stream",
     "text": [
      "<class 'pandas.core.frame.DataFrame'>\n",
      "Int64Index: 81512 entries, 1 to 106059\n",
      "Data columns (total 9 columns):\n",
      "tweetid                     81512 non-null int64\n",
      "user_screen_name            81512 non-null object\n",
      "user_reported_location      81512 non-null object\n",
      "user_profile_description    81512 non-null object\n",
      "follower_count              81512 non-null int64\n",
      "following_count             81512 non-null int64\n",
      "account_creation_date       81512 non-null object\n",
      "tweet_time                  81512 non-null object\n",
      "tweet_text                  81512 non-null object\n",
      "dtypes: int64(3), object(6)\n",
      "memory usage: 6.2+ MB\n"
     ]
    }
   ],
   "source": [
    "real_tweets.info()"
   ]
  },
  {
   "cell_type": "markdown",
   "metadata": {},
   "source": [
    "### NOTE:\n",
    "\n",
    "The initial format of the real-tweets dataset looks good. I'm happy with it and will output several sets of tweets:\n",
    "1. A 50K tweets set for training the model.\n",
    "2. A 1,000 \"unseen\" real tweets test set for testing the best model built using the Russian fake tweets.\n",
    "3. A 1,000 \"unseen\" reals tweets test set for use with unseen Iranian fake tweets.\n",
    "4. A 1,000 \"unseen\" reals tweets test set for use with unseen Venezuelan fake tweets. \n",
    "\n",
    "I've commented out the lines for outputting the files, so as to avoid any inadvertent over-riding of the CSV files when re-running this file. You can obviously change up the sample sizes if you wish to run your own version of this project."
   ]
  },
  {
   "cell_type": "code",
   "execution_count": 44,
   "metadata": {},
   "outputs": [],
   "source": [
    "#real_sample = real_tweets.sample(n=50000, random_state=42)\n",
    "#real_sample = real_sample.to_csv('../data/real_50k.csv', index=False)"
   ]
  },
  {
   "cell_type": "code",
   "execution_count": 45,
   "metadata": {},
   "outputs": [],
   "source": [
    "# This will be used as part of an unseen test set for Russian backed tweets\n",
    "#test_sample = real_tweets.sample(n=1000, random_state=42)\n",
    "#test_set = test_sample.to_csv('../data/real_test.csv', index=False)"
   ]
  },
  {
   "cell_type": "code",
   "execution_count": 46,
   "metadata": {},
   "outputs": [],
   "source": [
    "# This will be used as part of an unseen test set for Iranian backed tweets\n",
    "#test_sample2 = real_tweets.sample(n=1000, random_state=7)\n",
    "#test_set2 = test_sample2.to_csv('../data/real_test2.csv', index=False)"
   ]
  },
  {
   "cell_type": "code",
   "execution_count": 47,
   "metadata": {},
   "outputs": [],
   "source": [
    "# This will be used as part of an unseen test set for Venezuelian backed tweets\n",
    "#test_sample3 = real_tweets.sample(n=1000, random_state=1)\n",
    "#test_set3 = test_sample3.to_csv('../data/real_test3.csv', index=False)"
   ]
  },
  {
   "cell_type": "code",
   "execution_count": 48,
   "metadata": {},
   "outputs": [],
   "source": [
    "# This will be used as part of an unseen test set for a new model in notebook 3.2\n",
    "#test_sample4 = real_tweets.sample(n=1000, random_state=24)\n",
    "#test_set4 = test_sample4.to_csv('../data/real_test4.csv', index=False)"
   ]
  },
  {
   "cell_type": "markdown",
   "metadata": {},
   "source": [
    "#### Next, in notebook 1.2, I'll harvest similar sets of tweets by Russian state-backed operators, as released by Twitter."
   ]
  }
 ],
 "metadata": {
  "kernelspec": {
   "display_name": "Python 3",
   "language": "python",
   "name": "python3"
  },
  "language_info": {
   "codemirror_mode": {
    "name": "ipython",
    "version": 3
   },
   "file_extension": ".py",
   "mimetype": "text/x-python",
   "name": "python",
   "nbconvert_exporter": "python",
   "pygments_lexer": "ipython3",
   "version": "3.6.8"
  }
 },
 "nbformat": 4,
 "nbformat_minor": 2
}
